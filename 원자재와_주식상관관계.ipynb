{
  "nbformat": 4,
  "nbformat_minor": 0,
  "metadata": {
    "colab": {
      "name": "원자재와 주식상관관계.ipynb",
      "provenance": [],
      "collapsed_sections": [],
      "authorship_tag": "ABX9TyNQ3ymCtaApIqfBADFqj3cM",
      "include_colab_link": true
    },
    "kernelspec": {
      "name": "python3",
      "display_name": "Python 3"
    },
    "language_info": {
      "name": "python"
    }
  },
  "cells": [
    {
      "cell_type": "markdown",
      "metadata": {
        "id": "view-in-github",
        "colab_type": "text"
      },
      "source": [
        "<a href=\"https://colab.research.google.com/github/qpwisu/CommunityApp/blob/main/%EC%9B%90%EC%9E%90%EC%9E%AC%EC%99%80_%EC%A3%BC%EC%8B%9D%EC%83%81%EA%B4%80%EA%B4%80%EA%B3%84.ipynb\" target=\"_parent\"><img src=\"https://colab.research.google.com/assets/colab-badge.svg\" alt=\"Open In Colab\"/></a>"
      ]
    },
    {
      "cell_type": "code",
      "execution_count": 2,
      "metadata": {
        "colab": {
          "base_uri": "https://localhost:8080/"
        },
        "id": "rQ9IgwNJoIAe",
        "outputId": "b55819f6-91da-4d03-c21c-aa703ad7157e"
      },
      "outputs": [
        {
          "output_type": "stream",
          "name": "stdout",
          "text": [
            "Requirement already satisfied: bs4 in /usr/local/lib/python3.7/dist-packages (0.0.1)\n",
            "Requirement already satisfied: beautifulsoup4 in /usr/local/lib/python3.7/dist-packages (from bs4) (4.6.3)\n"
          ]
        }
      ],
      "source": [
        "pip install bs4\n",
        "#https://buyandpray.tistory.com/39"
      ]
    },
    {
      "cell_type": "code",
      "source": [
        "#https://kr.investing.com/에서 ajax를 통해 서버에 요청해 철광석 가격을 받아왔다\n",
        "import re\n",
        "headers = {\n",
        "    'User-Agent' : 'Mozilla/5.0 (Windows NT 10.0; Win64; x64) AppleWebKit/537.36 (KHTML, like Gecko) Chrome/86.0.4240.198 Safari/537.36',\n",
        "    'X-Requested-With' : 'XMLHttpRequest'\n",
        "}\n",
        "formData = {\n",
        "    \"curr_id\" : \"\",\n",
        "    \"smlID\" : \"\",\n",
        "    \"header\" : \"\",\n",
        "    \"st_date\" : \"2021/06/01\",\n",
        "    \"end_date\" : \"2022/02/13\",\n",
        "    \"interval_sec\" : \"Daily\",\n",
        "    \"sort_col\" : \"date\",\n",
        "    \"sort_ord\" : \"DESC\",\n",
        "    \"action\" : \"historical_data\"\n",
        "}\n",
        "\n",
        "POSTURL = r\"https://kr.investing.com/instruments/HistoricalDataAjax\"\n",
        "\n",
        "formData[\"curr_id\"] = \"961729\"\n",
        "formData[\"smlID\"] = \"301009\"\n",
        "formData[\"header\"] = \"철광석\" + \" 내역\"\n",
        "\n",
        "response = requests.post(POSTURL, headers=headers, data=formData)\n",
        "if response.status_code == 200:\n",
        "    html = response.text\n",
        "    soup = BeautifulSoup(html,'html.parser') \n",
        "    items= soup.select(\"tr\")\n",
        "    items = items[1:-1]\n",
        "    li= []\n",
        "\n",
        "    for item in items:\n",
        "     \n",
        "\n",
        "      i = item.text.split(\"\\n\")[1:7]\n",
        "      i[0]=re.sub(r\"(\\d{4})년 (\\d{2})월 (\\d{2})일\",r\"\\g<1>-\\g<2>-\\g<3>\",i[0])\n",
        "      i.append(i[5].split(\" \")[1])\n",
        "      i[5]= i[5].split(\" \")[0]\n",
        "      li.append(i)\n",
        "    print(li)\n",
        "   \n"
      ],
      "metadata": {
        "colab": {
          "base_uri": "https://localhost:8080/"
        },
        "id": "Kp3DhigHdG-8",
        "outputId": "71391c97-601e-4b30-9afd-b1278453b7b4"
      },
      "execution_count": 199,
      "outputs": [
        {
          "output_type": "stream",
          "name": "stdout",
          "text": [
            "[['2022-02-11', '150.87', '150.87', '150.87', '150.87', '-', '-0.46%'], ['2022-02-10', '151.57', '151.57', '151.57', '151.57', '-', '2.66%'], ['2022-02-09', '147.64', '147.64', '147.64', '147.64', '-', '-0.80%'], ['2022-02-08', '148.83', '148.83', '148.83', '148.83', '-', '-0.85%'], ['2022-02-07', '150.11', '150.11', '150.11', '150.11', '0.03K', '3.20%'], ['2022-02-04', '145.45', '145.45', '145.45', '145.45', '-', '-0.34%'], ['2022-02-03', '145.95', '145.95', '145.95', '145.95', '0.01K', '4.26%'], ['2022-02-02', '139.98', '139.98', '139.98', '139.98', '-', '0.86%'], ['2022-02-01', '138.79', '138.79', '138.79', '138.79', '-', '5.83%'], ['2022-01-31', '131.15', '131.15', '131.15', '131.15', '-', '0.26%'], ['2022-01-28', '130.81', '130.81', '130.81', '130.81', '0.01K', '0.65%'], ['2022-01-27', '129.96', '129.96', '129.96', '129.96', '0.02K', '0.43%'], ['2022-01-26', '129.40', '129.40', '129.40', '129.40', '-', '-0.42%'], ['2022-01-25', '129.94', '129.94', '129.94', '129.94', '-', '0.93%'], ['2022-01-24', '128.74', '128.74', '128.74', '128.74', '-', '-0.58%'], ['2022-01-21', '129.49', '129.49', '129.49', '129.49', '-', '0.31%'], ['2022-01-20', '129.09', '129.09', '129.09', '129.09', '-', '1.32%'], ['2022-01-19', '127.41', '127.41', '127.41', '127.41', '0.02K', '-0.05%'], ['2022-01-18', '127.48', '127.48', '127.48', '127.48', '-', '0.98%'], ['2022-01-14', '126.24', '126.24', '126.24', '126.24', '0.01K', '-1.25%'], ['2022-01-13', '127.84', '127.84', '127.84', '127.84', '0.02K', '-0.64%'], ['2022-01-12', '128.66', '128.66', '128.66', '128.66', '0.02K', '1.51%'], ['2022-01-11', '126.75', '126.75', '126.75', '126.75', '-', '1.82%'], ['2022-01-10', '124.48', '124.48', '124.48', '124.48', '-', '-1.37%'], ['2022-01-07', '126.21', '126.21', '126.21', '126.21', '-', '0.21%'], ['2022-01-06', '125.94', '125.94', '125.94', '125.94', '-', '1.45%'], ['2022-01-05', '124.14', '124.14', '124.14', '124.14', '-', '2.67%'], ['2022-01-04', '120.91', '120.91', '120.91', '120.91', '0.20K', '0.42%'], ['2022-01-03', '120.40', '120.40', '120.40', '120.40', '-', '7.02%'], ['2021-12-31', '112.50', '112.50', '112.50', '112.50', '-', '0.23%'], ['2021-12-30', '112.24', '112.24', '112.24', '112.24', '-', '-0.09%'], ['2021-12-29', '112.34', '112.34', '112.34', '112.34', '-', '0.04%'], ['2021-12-28', '112.29', '112.29', '112.29', '112.29', '-', '-0.62%'], ['2021-12-27', '112.99', '112.99', '112.99', '112.99', '-', '0.40%'], ['2021-12-23', '112.54', '112.54', '112.54', '112.54', '-', '0.00%'], ['2021-12-22', '112.54', '112.54', '112.54', '112.54', '-', '-0.97%'], ['2021-12-21', '113.64', '113.64', '113.64', '113.64', '-', '-0.13%'], ['2021-12-20', '113.79', '113.79', '113.79', '113.79', '-', '1.93%'], ['2021-12-17', '111.64', '111.64', '111.64', '111.64', '-', '0.40%'], ['2021-12-16', '111.19', '111.19', '111.19', '111.19', '-', '1.80%'], ['2021-12-15', '109.22', '109.22', '109.22', '109.22', '-', '2.04%'], ['2021-12-14', '107.04', '107.04', '107.04', '107.04', '-', '-1.35%'], ['2021-12-13', '108.51', '108.51', '108.51', '108.51', '-', '3.34%'], ['2021-12-10', '105.00', '105.00', '105.00', '105.00', '-', '-1.40%'], ['2021-12-09', '106.49', '106.49', '106.49', '106.49', '-', '-0.26%'], ['2021-12-08', '106.77', '106.77', '106.77', '106.77', '-', '-1.18%'], ['2021-12-07', '108.04', '108.04', '108.04', '108.04', '-', '4.14%'], ['2021-12-06', '103.74', '103.74', '103.74', '103.74', '-', '2.22%'], ['2021-12-03', '101.49', '101.49', '101.49', '101.49', '-', '-0.32%'], ['2021-12-02', '101.82', '101.82', '101.82', '101.82', '-', '-1.31%'], ['2021-12-01', '103.17', '103.17', '103.17', '103.17', '-', '8.63%'], ['2021-11-30', '94.97', '94.97', '94.97', '94.97', '-', '0.27%'], ['2021-11-29', '94.71', '94.71', '94.71', '94.71', '-', '0.29%'], ['2021-11-26', '94.44', '94.44', '94.44', '94.44', '-', '0.12%'], ['2021-11-24', '94.33', '94.33', '94.33', '94.33', '-', '0.36%'], ['2021-11-23', '93.99', '93.99', '93.99', '93.99', '-', '0.64%'], ['2021-11-22', '93.39', '93.39', '93.39', '93.39', '-', '0.66%'], ['2021-11-19', '92.78', '92.78', '92.78', '92.78', '-', '0.84%'], ['2021-11-18', '92.01', '92.01', '92.01', '92.01', '-', '-0.81%'], ['2021-11-17', '92.76', '92.76', '92.76', '92.76', '-', '0.82%'], ['2021-11-16', '92.01', '92.01', '92.01', '92.01', '-', '-0.38%'], ['2021-11-15', '92.36', '92.36', '92.36', '92.36', '-', '-1.11%'], ['2021-11-12', '93.40', '93.40', '93.40', '93.40', '-', '-0.25%'], ['2021-11-11', '93.63', '93.63', '93.63', '93.63', '-', '1.56%'], ['2021-11-10', '92.19', '92.19', '92.19', '92.19', '-', '0.23%'], ['2021-11-09', '91.98', '91.98', '91.98', '91.98', '-', '-2.52%'], ['2021-11-08', '94.36', '94.36', '94.36', '94.36', '-', '-0.07%'], ['2021-11-05', '94.43', '94.43', '94.43', '94.43', '-', '-2.82%'], ['2021-11-04', '97.17', '97.17', '97.17', '97.17', '-', '-2.19%'], ['2021-11-03', '99.35', '99.35', '99.35', '99.35', '-', '-0.05%'], ['2021-11-02', '99.40', '99.40', '99.40', '99.40', '-', '-3.10%'], ['2021-11-01', '102.58', '102.58', '102.58', '102.58', '-', '-15.38%'], ['2021-10-29', '121.23', '121.23', '121.23', '121.23', '-', '-0.58%'], ['2021-10-28', '121.94', '121.94', '121.94', '121.94', '-', '-0.34%'], ['2021-10-27', '122.36', '122.36', '122.36', '122.36', '-', '-0.09%'], ['2021-10-26', '122.47', '122.47', '122.47', '122.47', '-', '0.34%'], ['2021-10-25', '122.06', '122.06', '122.06', '122.06', '-', '-0.36%'], ['2021-10-22', '122.50', '122.50', '122.50', '122.50', '-', '-0.32%'], ['2021-10-21', '122.89', '122.89', '122.89', '122.89', '-', '-0.49%'], ['2021-10-20', '123.49', '123.49', '123.49', '123.49', '-', '0.15%'], ['2021-10-19', '123.30', '123.30', '123.30', '123.30', '-', '-0.08%'], ['2021-10-18', '123.40', '123.40', '123.40', '123.40', '-', '0.17%'], ['2021-10-15', '123.19', '123.19', '123.19', '123.19', '-', '0.29%'], ['2021-10-14', '122.83', '122.83', '122.83', '122.83', '-', '0.44%'], ['2021-10-13', '122.29', '122.29', '122.29', '122.29', '-', '-3.27%'], ['2021-10-12', '126.42', '126.42', '126.42', '126.42', '0.13K', '-2.93%'], ['2021-10-11', '130.24', '130.24', '130.24', '130.24', '-', '6.01%'], ['2021-10-08', '122.86', '122.86', '122.86', '122.86', '-', '4.03%'], ['2021-10-07', '118.10', '118.10', '118.10', '118.10', '-', '0.36%'], ['2021-10-06', '117.68', '117.68', '117.68', '117.68', '-', '-0.14%'], ['2021-10-05', '117.85', '117.85', '117.85', '117.85', '-', '0.08%'], ['2021-10-04', '117.76', '117.76', '117.76', '117.76', '-', '1.73%'], ['2021-10-01', '115.76', '115.76', '115.76', '115.76', '-', '-3.25%'], ['2021-09-30', '119.65', '119.65', '119.65', '119.65', '-', '-0.04%'], ['2021-09-29', '119.70', '119.70', '119.70', '119.70', '-', '-0.16%'], ['2021-09-28', '119.89', '119.89', '119.89', '119.89', '-', '-0.28%'], ['2021-09-27', '120.23', '120.23', '120.23', '120.23', '-', '0.11%'], ['2021-09-24', '120.10', '120.10', '120.10', '120.10', '-', '-0.29%'], ['2021-09-23', '120.45', '120.45', '120.45', '120.45', '-', '-0.23%'], ['2021-09-22', '120.73', '120.73', '120.73', '120.73', '-', '1.45%'], ['2021-09-21', '119.01', '119.01', '119.01', '119.01', '0.01K', '1.71%'], ['2021-09-20', '117.01', '117.01', '117.01', '117.01', '-', '-4.87%'], ['2021-09-17', '123.00', '123.00', '123.00', '123.00', '-', '2.53%'], ['2021-09-16', '119.96', '119.96', '119.96', '119.96', '-', '-3.38%'], ['2021-09-15', '124.16', '124.16', '124.16', '124.16', '-', '-3.08%'], ['2021-09-14', '128.11', '128.11', '128.11', '128.11', '-', '-1.20%'], ['2021-09-13', '129.66', '129.66', '129.66', '129.66', '-', '-2.64%'], ['2021-09-10', '133.18', '133.18', '133.18', '133.18', '-', '-0.48%'], ['2021-09-09', '133.82', '133.82', '133.82', '133.82', '-', '-1.28%'], ['2021-09-08', '135.56', '135.56', '135.56', '135.56', '-', '-2.47%'], ['2021-09-07', '138.99', '138.99', '138.99', '138.99', '0.24K', '-4.03%'], ['2021-09-03', '144.83', '144.83', '144.83', '144.83', '-', '3.05%'], ['2021-09-02', '140.54', '140.54', '140.54', '140.54', '0.10K', '-1.78%'], ['2021-09-01', '143.08', '143.08', '143.08', '143.08', '-', '-10.15%'], ['2021-08-31', '159.25', '159.25', '159.25', '159.25', '-', '-0.21%'], ['2021-08-30', '159.58', '159.58', '159.58', '159.58', '-', '-0.06%'], ['2021-08-27', '159.68', '159.68', '159.68', '159.68', '-', '0.03%'], ['2021-08-26', '159.63', '159.63', '159.63', '159.63', '-', '-0.18%'], ['2021-08-25', '159.92', '159.92', '159.92', '159.92', '-', '-0.09%'], ['2021-08-24', '160.07', '160.07', '160.07', '160.07', '-', '0.42%'], ['2021-08-23', '159.40', '159.40', '159.40', '159.40', '-', '-0.71%'], ['2021-08-20', '160.54', '160.54', '160.54', '160.54', '-', '0.10%'], ['2021-08-19', '160.38', '160.38', '160.38', '160.38', '-', '0.50%'], ['2021-08-18', '159.59', '159.59', '159.59', '159.59', '-', '-4.63%'], ['2021-08-17', '167.34', '167.34', '167.34', '167.34', '-', '0.23%'], ['2021-08-16', '166.96', '166.96', '166.96', '166.96', '-', '-0.59%'], ['2021-08-13', '167.95', '167.95', '167.95', '167.95', '-', '0.01%'], ['2021-08-12', '167.94', '167.94', '167.94', '167.94', '-', '-0.66%'], ['2021-08-11', '169.06', '169.06', '169.06', '169.06', '-', '0.28%'], ['2021-08-10', '168.59', '168.59', '168.59', '168.59', '-', '-2.84%'], ['2021-08-09', '173.52', '173.52', '173.52', '173.52', '-', '0.88%'], ['2021-08-06', '172.01', '172.01', '172.01', '172.01', '-', '0.06%'], ['2021-08-05', '171.91', '171.91', '171.91', '171.91', '-', '-5.81%'], ['2021-08-04', '182.51', '182.51', '182.51', '182.51', '-', '0.83%'], ['2021-08-03', '181.01', '181.01', '181.01', '181.01', '-', '-0.11%'], ['2021-08-02', '181.21', '181.21', '181.21', '181.21', '-', '-14.52%'], ['2021-07-30', '211.99', '211.99', '211.99', '211.99', '-', '-0.72%'], ['2021-07-29', '213.52', '213.52', '213.52', '213.52', '-', '-0.43%'], ['2021-07-28', '214.44', '214.44', '214.44', '214.44', '-', '-0.26%'], ['2021-07-27', '214.99', '214.99', '214.99', '214.99', '-', '-0.08%'], ['2021-07-26', '215.16', '215.16', '215.16', '215.16', '0.04K', '-0.40%'], ['2021-07-23', '216.03', '216.03', '216.03', '216.03', '-', '1.04%'], ['2021-07-22', '213.81', '213.81', '213.81', '213.81', '-', '-2.09%'], ['2021-07-21', '218.37', '218.37', '218.37', '218.37', '-', '-0.45%'], ['2021-07-20', '219.36', '219.36', '219.36', '219.36', '-', '-0.06%'], ['2021-07-19', '219.50', '219.50', '219.50', '219.50', '-', '-0.12%'], ['2021-07-16', '219.77', '219.77', '219.77', '219.77', '-', '0.50%'], ['2021-07-15', '218.68', '218.68', '218.68', '218.68', '-', '0.34%'], ['2021-07-14', '217.94', '217.94', '217.94', '217.94', '-', '-0.15%'], ['2021-07-13', '218.26', '218.26', '218.26', '218.26', '-', '0.43%'], ['2021-07-12', '217.33', '217.33', '217.33', '217.33', '-', '0.72%'], ['2021-07-09', '215.78', '215.78', '215.78', '215.78', '-', '-0.25%'], ['2021-07-08', '216.32', '216.32', '216.32', '216.32', '-', '-0.82%'], ['2021-07-07', '218.11', '218.11', '218.11', '218.11', '0.01K', '0.24%'], ['2021-07-06', '217.58', '217.58', '217.58', '217.58', '-', '2.41%'], ['2021-07-02', '212.46', '212.46', '212.46', '212.46', '-', '-0.53%'], ['2021-07-01', '213.59', '211.80', '211.80', '211.80', '0.01K', '-0.45%'], ['2021-06-30', '214.55', '214.55', '214.55', '214.55', '-', '0.09%'], ['2021-06-29', '214.36', '214.36', '214.36', '214.36', '-', '-0.42%'], ['2021-06-28', '215.26', '215.26', '215.26', '215.26', '-', '0.51%'], ['2021-06-25', '214.17', '214.17', '214.17', '214.17', '-', '0.20%'], ['2021-06-24', '213.75', '213.75', '213.75', '213.75', '-', '-0.02%'], ['2021-06-23', '213.80', '213.80', '213.80', '213.80', '-', '0.16%'], ['2021-06-22', '213.45', '213.45', '213.45', '213.45', '0.04K', '0.33%'], ['2021-06-21', '212.75', '212.75', '212.75', '212.75', '-', '-0.68%'], ['2021-06-18', '214.21', '214.21', '214.21', '214.21', '-', '-0.22%'], ['2021-06-17', '214.69', '214.69', '214.69', '214.69', '-', '0.54%'], ['2021-06-16', '213.53', '213.53', '213.53', '213.53', '-', '-0.20%'], ['2021-06-15', '213.96', '213.96', '213.96', '213.96', '-', '-0.04%'], ['2021-06-14', '214.05', '214.05', '214.05', '214.05', '-', '0.43%'], ['2021-06-11', '213.13', '213.13', '213.13', '213.13', '-', '0.58%'], ['2021-06-10', '211.91', '211.91', '211.91', '211.91', '-', '0.82%'], ['2021-06-09', '210.19', '210.19', '210.19', '210.19', '-', '1.13%'], ['2021-06-08', '207.84', '207.84', '207.84', '207.84', '-', '2.68%'], ['2021-06-07', '202.41', '202.41', '202.41', '202.41', '-', '-1.88%'], ['2021-06-04', '206.29', '206.29', '206.29', '206.29', '-', '-0.82%'], ['2021-06-03', '208.00', '208.00', '208.00', '208.00', '-', '1.48%'], ['2021-06-02', '204.96', '204.96', '204.96', '204.96', '-', '0.03%'], ['2021-06-01', '204.90', '204.90', '204.90', '204.90', '-', '-0.40%']]\n"
          ]
        }
      ]
    },
    {
      "cell_type": "code",
      "source": [
        "import pandas as pd\n",
        "name_list = [\"날짜\",\"종가\",\"오픈\",\"고가\",'저기',\"거래량\",\"변동%\"]\n",
        "df = pd.DataFrame(li,columns=name_list)\n",
        "df.set_index(\"날짜\",inplace=True)\n",
        "df=df[::-1]"
      ],
      "metadata": {
        "id": "a5dOuEcpk3rw"
      },
      "execution_count": 205,
      "outputs": []
    },
    {
      "cell_type": "code",
      "source": [
        "pip install pykrx\n",
        "\n"
      ],
      "metadata": {
        "colab": {
          "base_uri": "https://localhost:8080/"
        },
        "id": "uq-NFZITreV3",
        "outputId": "89ee718c-7f96-4dbd-b2eb-0afc25d634b5"
      },
      "execution_count": 133,
      "outputs": [
        {
          "output_type": "stream",
          "name": "stdout",
          "text": [
            "Collecting pykrx\n",
            "  Downloading pykrx-1.0.32-py3-none-any.whl (92 kB)\n",
            "\u001b[?25l\r\u001b[K     |███▌                            | 10 kB 24.5 MB/s eta 0:00:01\r\u001b[K     |███████                         | 20 kB 28.4 MB/s eta 0:00:01\r\u001b[K     |██████████▋                     | 30 kB 31.8 MB/s eta 0:00:01\r\u001b[K     |██████████████▏                 | 40 kB 20.7 MB/s eta 0:00:01\r\u001b[K     |█████████████████▊              | 51 kB 22.4 MB/s eta 0:00:01\r\u001b[K     |█████████████████████▎          | 61 kB 19.6 MB/s eta 0:00:01\r\u001b[K     |████████████████████████▉       | 71 kB 19.1 MB/s eta 0:00:01\r\u001b[K     |████████████████████████████▍   | 81 kB 20.2 MB/s eta 0:00:01\r\u001b[K     |████████████████████████████████| 92 kB 21.6 MB/s eta 0:00:01\r\u001b[K     |████████████████████████████████| 92 kB 407 kB/s \n",
            "\u001b[?25hCollecting datetime\n",
            "  Downloading DateTime-4.4-py2.py3-none-any.whl (51 kB)\n",
            "\u001b[?25l\r\u001b[K     |██████▍                         | 10 kB 26.8 MB/s eta 0:00:01\r\u001b[K     |████████████▊                   | 20 kB 33.0 MB/s eta 0:00:01\r\u001b[K     |███████████████████             | 30 kB 40.7 MB/s eta 0:00:01\r\u001b[K     |█████████████████████████▍      | 40 kB 45.2 MB/s eta 0:00:01\r\u001b[K     |███████████████████████████████▊| 51 kB 48.3 MB/s eta 0:00:01\r\u001b[K     |████████████████████████████████| 51 kB 365 kB/s \n",
            "\u001b[?25hRequirement already satisfied: xlrd in /usr/local/lib/python3.7/dist-packages (from pykrx) (1.1.0)\n",
            "Collecting deprecated\n",
            "  Downloading Deprecated-1.2.13-py2.py3-none-any.whl (9.6 kB)\n",
            "Requirement already satisfied: numpy in /usr/local/lib/python3.7/dist-packages (from pykrx) (1.19.5)\n",
            "Requirement already satisfied: pandas in /usr/local/lib/python3.7/dist-packages (from pykrx) (1.3.5)\n",
            "Requirement already satisfied: requests in /usr/local/lib/python3.7/dist-packages (from pykrx) (2.23.0)\n",
            "Collecting zope.interface\n",
            "  Downloading zope.interface-5.4.0-cp37-cp37m-manylinux2010_x86_64.whl (251 kB)\n",
            "\u001b[K     |████████████████████████████████| 251 kB 29.1 MB/s \n",
            "\u001b[?25hRequirement already satisfied: pytz in /usr/local/lib/python3.7/dist-packages (from datetime->pykrx) (2018.9)\n",
            "Requirement already satisfied: wrapt<2,>=1.10 in /usr/local/lib/python3.7/dist-packages (from deprecated->pykrx) (1.13.3)\n",
            "Requirement already satisfied: python-dateutil>=2.7.3 in /usr/local/lib/python3.7/dist-packages (from pandas->pykrx) (2.8.2)\n",
            "Requirement already satisfied: six>=1.5 in /usr/local/lib/python3.7/dist-packages (from python-dateutil>=2.7.3->pandas->pykrx) (1.15.0)\n",
            "Requirement already satisfied: certifi>=2017.4.17 in /usr/local/lib/python3.7/dist-packages (from requests->pykrx) (2021.10.8)\n",
            "Requirement already satisfied: chardet<4,>=3.0.2 in /usr/local/lib/python3.7/dist-packages (from requests->pykrx) (3.0.4)\n",
            "Requirement already satisfied: idna<3,>=2.5 in /usr/local/lib/python3.7/dist-packages (from requests->pykrx) (2.10)\n",
            "Requirement already satisfied: urllib3!=1.25.0,!=1.25.1,<1.26,>=1.21.1 in /usr/local/lib/python3.7/dist-packages (from requests->pykrx) (1.24.3)\n",
            "Requirement already satisfied: setuptools in /usr/local/lib/python3.7/dist-packages (from zope.interface->datetime->pykrx) (57.4.0)\n",
            "Installing collected packages: zope.interface, deprecated, datetime, pykrx\n",
            "Successfully installed datetime-4.4 deprecated-1.2.13 pykrx-1.0.32 zope.interface-5.4.0\n"
          ]
        }
      ]
    },
    {
      "cell_type": "code",
      "source": [
        "from pykrx import stock\n",
        "from pykrx import bond\n",
        "df2 = stock.get_market_ohlcv(\"20210601\", \"20220213\", \"001230\")\n"
      ],
      "metadata": {
        "id": "OCHBcdRBrffu"
      },
      "execution_count": 206,
      "outputs": []
    },
    {
      "cell_type": "code",
      "source": [
        "print(df[\"종가\"])\n",
        "index1 = df[\"종가\"].to_frame(name='철광석')\n",
        "index2 = df2[\"종가\"].to_frame(name='001230')\n",
        "index1=index1.astype('float')\n",
        "index2=index2.astype('float')\n",
        "index1.reset_index(inplace=True)\n",
        "index2.reset_index(inplace=True)\n",
        "index1=index1.astype({'날짜':'string'})\n",
        "index2=index2.astype({'날짜':'string'})\n",
        "index1.set_index(\"날짜\",inplace=True)\n",
        "index2.set_index(\"날짜\",inplace=True)\n"
      ],
      "metadata": {
        "colab": {
          "base_uri": "https://localhost:8080/"
        },
        "id": "tfo_8OzGsbLI",
        "outputId": "531833bc-ee7d-4ad0-c913-056d0ef79b63"
      },
      "execution_count": 251,
      "outputs": [
        {
          "output_type": "stream",
          "name": "stdout",
          "text": [
            "날짜\n",
            "2021-06-01    204.90\n",
            "2021-06-02    204.96\n",
            "2021-06-03    208.00\n",
            "2021-06-04    206.29\n",
            "2021-06-07    202.41\n",
            "               ...  \n",
            "2022-02-07    150.11\n",
            "2022-02-08    148.83\n",
            "2022-02-09    147.64\n",
            "2022-02-10    151.57\n",
            "2022-02-11    150.87\n",
            "Name: 종가, Length: 179, dtype: object\n"
          ]
        }
      ]
    },
    {
      "cell_type": "code",
      "source": [
        "df3=pd.merge(index1, index2,left_index=True, right_index=True ,how='outer')\n",
        "df3 =df3.dropna(axis=0)\n"
      ],
      "metadata": {
        "id": "0HFzauZd1anS"
      },
      "execution_count": 252,
      "outputs": []
    },
    {
      "cell_type": "code",
      "source": [
        "#상관관계\n",
        "corr = df3.corr(method = 'pearson')\n",
        "corr"
      ],
      "metadata": {
        "colab": {
          "base_uri": "https://localhost:8080/",
          "height": 112
        },
        "id": "lAvb8lZo7qrO",
        "outputId": "989ba0b9-b741-42d3-e7aa-9e8fca335a2f"
      },
      "execution_count": 255,
      "outputs": [
        {
          "output_type": "execute_result",
          "data": {
            "text/html": [
              "\n",
              "  <div id=\"df-23876510-5f9e-49ab-a797-652f032ceef2\">\n",
              "    <div class=\"colab-df-container\">\n",
              "      <div>\n",
              "<style scoped>\n",
              "    .dataframe tbody tr th:only-of-type {\n",
              "        vertical-align: middle;\n",
              "    }\n",
              "\n",
              "    .dataframe tbody tr th {\n",
              "        vertical-align: top;\n",
              "    }\n",
              "\n",
              "    .dataframe thead th {\n",
              "        text-align: right;\n",
              "    }\n",
              "</style>\n",
              "<table border=\"1\" class=\"dataframe\">\n",
              "  <thead>\n",
              "    <tr style=\"text-align: right;\">\n",
              "      <th></th>\n",
              "      <th>철광석</th>\n",
              "      <th>001230</th>\n",
              "    </tr>\n",
              "  </thead>\n",
              "  <tbody>\n",
              "    <tr>\n",
              "      <th>철광석</th>\n",
              "      <td>1.000000</td>\n",
              "      <td>0.833428</td>\n",
              "    </tr>\n",
              "    <tr>\n",
              "      <th>001230</th>\n",
              "      <td>0.833428</td>\n",
              "      <td>1.000000</td>\n",
              "    </tr>\n",
              "  </tbody>\n",
              "</table>\n",
              "</div>\n",
              "      <button class=\"colab-df-convert\" onclick=\"convertToInteractive('df-23876510-5f9e-49ab-a797-652f032ceef2')\"\n",
              "              title=\"Convert this dataframe to an interactive table.\"\n",
              "              style=\"display:none;\">\n",
              "        \n",
              "  <svg xmlns=\"http://www.w3.org/2000/svg\" height=\"24px\"viewBox=\"0 0 24 24\"\n",
              "       width=\"24px\">\n",
              "    <path d=\"M0 0h24v24H0V0z\" fill=\"none\"/>\n",
              "    <path d=\"M18.56 5.44l.94 2.06.94-2.06 2.06-.94-2.06-.94-.94-2.06-.94 2.06-2.06.94zm-11 1L8.5 8.5l.94-2.06 2.06-.94-2.06-.94L8.5 2.5l-.94 2.06-2.06.94zm10 10l.94 2.06.94-2.06 2.06-.94-2.06-.94-.94-2.06-.94 2.06-2.06.94z\"/><path d=\"M17.41 7.96l-1.37-1.37c-.4-.4-.92-.59-1.43-.59-.52 0-1.04.2-1.43.59L10.3 9.45l-7.72 7.72c-.78.78-.78 2.05 0 2.83L4 21.41c.39.39.9.59 1.41.59.51 0 1.02-.2 1.41-.59l7.78-7.78 2.81-2.81c.8-.78.8-2.07 0-2.86zM5.41 20L4 18.59l7.72-7.72 1.47 1.35L5.41 20z\"/>\n",
              "  </svg>\n",
              "      </button>\n",
              "      \n",
              "  <style>\n",
              "    .colab-df-container {\n",
              "      display:flex;\n",
              "      flex-wrap:wrap;\n",
              "      gap: 12px;\n",
              "    }\n",
              "\n",
              "    .colab-df-convert {\n",
              "      background-color: #E8F0FE;\n",
              "      border: none;\n",
              "      border-radius: 50%;\n",
              "      cursor: pointer;\n",
              "      display: none;\n",
              "      fill: #1967D2;\n",
              "      height: 32px;\n",
              "      padding: 0 0 0 0;\n",
              "      width: 32px;\n",
              "    }\n",
              "\n",
              "    .colab-df-convert:hover {\n",
              "      background-color: #E2EBFA;\n",
              "      box-shadow: 0px 1px 2px rgba(60, 64, 67, 0.3), 0px 1px 3px 1px rgba(60, 64, 67, 0.15);\n",
              "      fill: #174EA6;\n",
              "    }\n",
              "\n",
              "    [theme=dark] .colab-df-convert {\n",
              "      background-color: #3B4455;\n",
              "      fill: #D2E3FC;\n",
              "    }\n",
              "\n",
              "    [theme=dark] .colab-df-convert:hover {\n",
              "      background-color: #434B5C;\n",
              "      box-shadow: 0px 1px 3px 1px rgba(0, 0, 0, 0.15);\n",
              "      filter: drop-shadow(0px 1px 2px rgba(0, 0, 0, 0.3));\n",
              "      fill: #FFFFFF;\n",
              "    }\n",
              "  </style>\n",
              "\n",
              "      <script>\n",
              "        const buttonEl =\n",
              "          document.querySelector('#df-23876510-5f9e-49ab-a797-652f032ceef2 button.colab-df-convert');\n",
              "        buttonEl.style.display =\n",
              "          google.colab.kernel.accessAllowed ? 'block' : 'none';\n",
              "\n",
              "        async function convertToInteractive(key) {\n",
              "          const element = document.querySelector('#df-23876510-5f9e-49ab-a797-652f032ceef2');\n",
              "          const dataTable =\n",
              "            await google.colab.kernel.invokeFunction('convertToInteractive',\n",
              "                                                     [key], {});\n",
              "          if (!dataTable) return;\n",
              "\n",
              "          const docLinkHtml = 'Like what you see? Visit the ' +\n",
              "            '<a target=\"_blank\" href=https://colab.research.google.com/notebooks/data_table.ipynb>data table notebook</a>'\n",
              "            + ' to learn more about interactive tables.';\n",
              "          element.innerHTML = '';\n",
              "          dataTable['output_type'] = 'display_data';\n",
              "          await google.colab.output.renderOutput(dataTable, element);\n",
              "          const docLink = document.createElement('div');\n",
              "          docLink.innerHTML = docLinkHtml;\n",
              "          element.appendChild(docLink);\n",
              "        }\n",
              "      </script>\n",
              "    </div>\n",
              "  </div>\n",
              "  "
            ],
            "text/plain": [
              "             철광석    001230\n",
              "철광석     1.000000  0.833428\n",
              "001230  0.833428  1.000000"
            ]
          },
          "metadata": {},
          "execution_count": 255
        }
      ]
    },
    {
      "cell_type": "code",
      "source": [
        "#정규화\n",
        "def minmax_norm(df):\n",
        "    return (df - df.min()) / ( df.max() - df.min())\n",
        "df_minmax_norm = minmax_norm(df3)\n",
        "print(df_minmax_norm)\n",
        "df_minmax_norm.plot()"
      ],
      "metadata": {
        "colab": {
          "base_uri": "https://localhost:8080/",
          "height": 944
        },
        "id": "Z52qqYtP9B7b",
        "outputId": "a341e8e4-53be-4410-863f-6b0e56fb27cc"
      },
      "execution_count": 259,
      "outputs": [
        {
          "output_type": "stream",
          "name": "stdout",
          "text": [
            "                 철광석    001230\n",
            "날짜                            \n",
            "2021-06-01  0.883637  1.000000\n",
            "2021-06-02  0.884107  0.957672\n",
            "2021-06-03  0.907896  0.888889\n",
            "2021-06-04  0.894514  0.947090\n",
            "2021-06-07  0.864152  0.835979\n",
            "...              ...       ...\n",
            "2022-02-07  0.454887  0.153439\n",
            "2022-02-08  0.444870  0.137566\n",
            "2022-02-09  0.435558  0.264550\n",
            "2022-02-10  0.466312  0.253968\n",
            "2022-02-11  0.460834  0.264550\n",
            "\n",
            "[169 rows x 2 columns]\n"
          ]
        },
        {
          "output_type": "execute_result",
          "data": {
            "text/plain": [
              "<matplotlib.axes._subplots.AxesSubplot at 0x7f10c03db090>"
            ]
          },
          "metadata": {},
          "execution_count": 259
        },
        {
          "output_type": "stream",
          "name": "stderr",
          "text": [
            "/usr/local/lib/python3.7/dist-packages/matplotlib/backends/backend_agg.py:214: RuntimeWarning: Glyph 45216 missing from current font.\n",
            "  font.set_text(s, 0.0, flags=flags)\n",
            "/usr/local/lib/python3.7/dist-packages/matplotlib/backends/backend_agg.py:214: RuntimeWarning: Glyph 51676 missing from current font.\n",
            "  font.set_text(s, 0.0, flags=flags)\n",
            "/usr/local/lib/python3.7/dist-packages/matplotlib/backends/backend_agg.py:183: RuntimeWarning: Glyph 45216 missing from current font.\n",
            "  font.set_text(s, 0, flags=flags)\n",
            "/usr/local/lib/python3.7/dist-packages/matplotlib/backends/backend_agg.py:183: RuntimeWarning: Glyph 51676 missing from current font.\n",
            "  font.set_text(s, 0, flags=flags)\n",
            "/usr/local/lib/python3.7/dist-packages/matplotlib/backends/backend_agg.py:214: RuntimeWarning: Glyph 52384 missing from current font.\n",
            "  font.set_text(s, 0.0, flags=flags)\n",
            "/usr/local/lib/python3.7/dist-packages/matplotlib/backends/backend_agg.py:214: RuntimeWarning: Glyph 44305 missing from current font.\n",
            "  font.set_text(s, 0.0, flags=flags)\n",
            "/usr/local/lib/python3.7/dist-packages/matplotlib/backends/backend_agg.py:214: RuntimeWarning: Glyph 49437 missing from current font.\n",
            "  font.set_text(s, 0.0, flags=flags)\n",
            "/usr/local/lib/python3.7/dist-packages/matplotlib/backends/backend_agg.py:183: RuntimeWarning: Glyph 52384 missing from current font.\n",
            "  font.set_text(s, 0, flags=flags)\n",
            "/usr/local/lib/python3.7/dist-packages/matplotlib/backends/backend_agg.py:183: RuntimeWarning: Glyph 44305 missing from current font.\n",
            "  font.set_text(s, 0, flags=flags)\n",
            "/usr/local/lib/python3.7/dist-packages/matplotlib/backends/backend_agg.py:183: RuntimeWarning: Glyph 49437 missing from current font.\n",
            "  font.set_text(s, 0, flags=flags)\n"
          ]
        },
        {
          "output_type": "display_data",
          "data": {
            "image/png": "[encoded data removed]",
            "text/plain": [
              "<Figure size 432x288 with 1 Axes>"
            ]
          },
          "metadata": {
            "needs_background": "light"
          }
        }
      ]
    }
  ]
}